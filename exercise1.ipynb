{
  "nbformat": 4,
  "nbformat_minor": 0,
  "metadata": {
    "colab": {
      "provenance": [],
      "authorship_tag": "ABX9TyNdLLkVpA4T6W+vfrLOIaLy",
      "include_colab_link": true
    },
    "kernelspec": {
      "name": "python3",
      "display_name": "Python 3"
    },
    "language_info": {
      "name": "python"
    }
  },
  "cells": [
    {
      "cell_type": "markdown",
      "metadata": {
        "id": "view-in-github",
        "colab_type": "text"
      },
      "source": [
        "<a href=\"https://colab.research.google.com/github/chl-eo/CALCOMP_EXERCISES_COM222/blob/main/exercise1.ipynb\" target=\"_parent\"><img src=\"https://colab.research.google.com/assets/colab-badge.svg\" alt=\"Open In Colab\"/></a>"
      ]
    },
    {
      "cell_type": "code",
      "execution_count": 96,
      "metadata": {
        "id": "FM7IzLEycdfQ"
      },
      "outputs": [],
      "source": [
        "# Add a vertex to the set of vertices and the graph\n",
        "def add_vertex(v):\n",
        "  global graph\n",
        "  global vertices_no\n",
        "  global vertices\n",
        "  if v in vertices:\n",
        "    print(\"Vertex \", v, \" already exists\")\n",
        "  else:\n",
        "    vertices_no = vertices_no + 1\n",
        "    vertices.append(v)\n",
        "    if vertices_no > 1:\n",
        "        for vertex in graph:\n",
        "            vertex.append(0)\n",
        "    temp = []\n",
        "    for i in range(vertices_no):\n",
        "        temp.append(0)\n",
        "    graph.append(temp)\n",
        "\n",
        "# Add an edge between vertex v1 and v2 with edge weight e\n",
        "def add_edge(v1, v2, e):\n",
        "    global graph\n",
        "    global vertices_no\n",
        "    global vertices\n",
        "    # Check if vertex v1 is a valid vertex\n",
        "    if v1 not in vertices:\n",
        "        print(\"Vertex \", v1, \" does not exist.\")\n",
        "    # Check if vertex v1 is a valid vertex\n",
        "    elif v2 not in vertices:\n",
        "        print(\"Vertex \", v2, \" does not exist.\")\n",
        "    # Since this code is not restricted to a directed or\n",
        "    # an undirected graph, an edge between v1 v2 does not\n",
        "    # imply that an edge exists between v2 and v1\n",
        "    else:\n",
        "        index1 = vertices.index(v1)\n",
        "        index2 = vertices.index(v2)\n",
        "        graph[index1][index2] = e\n",
        "\n",
        "# Print the graph\n",
        "def print_graph():\n",
        "  global graph\n",
        "  global vertices_no\n",
        "  for i in range(vertices_no):\n",
        "    for j in range(vertices_no):\n",
        "      if graph[i][j] != 0:\n",
        "        print(vertices[i], \" -> \", vertices[j],\n",
        "              \" edge weight: \", graph[i][j])"
      ]
    },
    {
      "cell_type": "code",
      "source": [
        "# stores the vertices in the graph\n",
        "vertices = []\n",
        "# stores the number of vertices in the graph\n",
        "vertices_no = 0\n",
        "graph = []"
      ],
      "metadata": {
        "id": "Z5xW5RbbcqU9"
      },
      "execution_count": 97,
      "outputs": []
    },
    {
      "cell_type": "markdown",
      "source": [
        "NO.1"
      ],
      "metadata": {
        "id": "Le0T2nUQudms"
      }
    },
    {
      "cell_type": "code",
      "source": [
        "vertices = ['E', 'A', 'B', 'D', 'C']\n",
        "\n",
        "graph = {\n",
        "    'E': [('A', 7)],\n",
        "    'A': [('C', 12), ('D', 60)],\n",
        "    'B': [('A', 10)],\n",
        "    'D': [],\n",
        "    'C': [('B', 20), ('D', 32)],\n",
        "}\n",
        "\n",
        "# Print vertices\n",
        "print(\"Vertices are:\", \",\".join(vertices), )\n",
        "\n",
        "# Print edges\n",
        "print(\"Edges:\")\n",
        "for vertex, adjacent in graph.items():\n",
        "  if not adjacent:\n",
        "    print(f'{{{vertex}}} has no edges')\n",
        "  else:\n",
        "    for neighbor, weight in adjacent:\n",
        "       print(f'{{{vertex},{neighbor}}},')"
      ],
      "metadata": {
        "id": "XNwAxst9cx-n",
        "colab": {
          "base_uri": "https://localhost:8080/"
        },
        "outputId": "b8a017d7-8651-4297-a421-8feb3921a301"
      },
      "execution_count": 98,
      "outputs": [
        {
          "output_type": "stream",
          "name": "stdout",
          "text": [
            "Vertices are: E,A,B,D,C\n",
            "Edges:\n",
            "{E,A},\n",
            "{A,C},\n",
            "{A,D},\n",
            "{B,A},\n",
            "{D} has no edges\n",
            "{C,B},\n",
            "{C,D},\n"
          ]
        }
      ]
    },
    {
      "cell_type": "markdown",
      "source": [
        "NO.2"
      ],
      "metadata": {
        "id": "qS_4NyhOvDgt"
      }
    },
    {
      "cell_type": "code",
      "source": [
        "def print_graph():\n",
        "    global graph\n",
        "    for vertex, adjacent in graph.items():\n",
        "        if not adjacent:\n",
        "            print(f'{{{vertex}}} has no edge weight')\n",
        "        else:\n",
        "            for neighbor, weight in adjacent:\n",
        "                print(f'{{{vertex},{neighbor}}} edge weight: {weight}')\n",
        "\n",
        "print(\"Vertices are:\", \",\".join(vertices))\n",
        "\n",
        "print(\"Edges:\")\n",
        "print_graph()"
      ],
      "metadata": {
        "colab": {
          "base_uri": "https://localhost:8080/"
        },
        "id": "T_-G3IVQ1jFd",
        "outputId": "d4484bf0-22b5-4d64-8eed-3625dfd54605"
      },
      "execution_count": 99,
      "outputs": [
        {
          "output_type": "stream",
          "name": "stdout",
          "text": [
            "Vertices are: E,A,B,D,C\n",
            "Edges:\n",
            "{E,A} edge weight: 7\n",
            "{A,C} edge weight: 12\n",
            "{A,D} edge weight: 60\n",
            "{B,A} edge weight: 10\n",
            "{D} has no edge weight\n",
            "{C,B} edge weight: 20\n",
            "{C,D} edge weight: 32\n"
          ]
        }
      ]
    },
    {
      "cell_type": "markdown",
      "source": [
        "NO.3"
      ],
      "metadata": {
        "id": "PDdRfCd95fER"
      }
    },
    {
      "cell_type": "code",
      "source": [
        "places = {\n",
        "    'Manila': [('Puerto Princesa', 8000), ('Davao', 5000), ('Tacloban', 1000)],\n",
        "    'Puerto Princesa': [('Manila', 8000), ('Tacloban', 1500), ('Davao', 4000)],\n",
        "    'Davao': [('Manila', 5000), ('Puerto Princesa', 4000), ('Tacloban', 2000)],\n",
        "    'Tacloban': [('Manila', 1000), ('Puerto Princesa', 1500), ('Davao', 2000)]\n",
        "}\n",
        "\n",
        "def dfs(city, visited, place, cost):\n",
        "    visited.add(city)\n",
        "    place.append(city)\n",
        "\n",
        "    if len(place) == len(places):\n",
        "        cost += next(distance for destination, distance in places[city] if destination == place[0])\n",
        "        global total_cost, optimal_route\n",
        "        if cost < total_cost:\n",
        "            total_cost = cost\n",
        "            optimal_route = place.copy()\n",
        "    else:\n",
        "        for adjacent, distance in places[city]:\n",
        "            if adjacent not in visited:\n",
        "                dfs(adjacent, visited, place, cost + distance)\n",
        "\n",
        "    visited.remove(city)\n",
        "    place.pop()\n",
        "\n",
        "total_cost = float('inf')\n",
        "optimal_route = None\n",
        "\n",
        "for city in places.keys():\n",
        "    dfs(city, set(), [], 0)\n",
        "\n",
        "print(\"Optimal Route:\")\n",
        "for i, city in enumerate(optimal_route):\n",
        "    next_city = optimal_route[(i + 1) % len(optimal_route)]\n",
        "    for destination, distance in places[city]:\n",
        "        if destination == next_city:\n",
        "            print(f\"{city} -> {destination} = {distance} \" + \"\\n\", end=\"\")\n",
        "\n",
        "print(f'\\nTotal cost: {total_cost}')\n"
      ],
      "metadata": {
        "colab": {
          "base_uri": "https://localhost:8080/"
        },
        "id": "NfEK9mpAOJIQ",
        "outputId": "3e00fcae-0fd3-437d-dbc0-816f6e511594"
      },
      "execution_count": 100,
      "outputs": [
        {
          "output_type": "stream",
          "name": "stdout",
          "text": [
            "Optimal Route:\n",
            "Manila -> Davao = 5000 \n",
            "Davao -> Puerto Princesa = 4000 \n",
            "Puerto Princesa -> Tacloban = 1500 \n",
            "Tacloban -> Manila = 1000 \n",
            "\n",
            "Total cost: 11500\n"
          ]
        }
      ]
    }
  ]
}