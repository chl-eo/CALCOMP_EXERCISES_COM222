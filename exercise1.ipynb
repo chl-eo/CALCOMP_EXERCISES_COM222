{
  "cells": [
    {
      "cell_type": "markdown",
      "metadata": {
        "id": "view-in-github",
        "colab_type": "text"
      },
      "source": [
        "<a href=\"https://colab.research.google.com/github/chl-eo/CCALCOMP_EXERCISES_COM222/blob/main/exercise1.ipynb\" target=\"_parent\"><img src=\"https://colab.research.google.com/assets/colab-badge.svg\" alt=\"Open In Colab\"/></a>"
      ]
    },
    {
      "cell_type": "code",
      "execution_count": null,
      "metadata": {
        "id": "FM7IzLEycdfQ"
      },
      "outputs": [],
      "source": [
        "# Add a vertex to the set of vertices and the graph\n",
        "def add_vertex(v):\n",
        "  global graph\n",
        "  global vertices_no\n",
        "  global vertices\n",
        "  if v in vertices:\n",
        "    print(\"Vertex \", v, \" already exists\")\n",
        "  else:\n",
        "    vertices_no = vertices_no + 1\n",
        "    vertices.append(v)\n",
        "    if vertices_no > 1:\n",
        "        for vertex in graph:\n",
        "            vertex.append(0)\n",
        "    temp = []\n",
        "    for i in range(vertices_no):\n",
        "        temp.append(0)\n",
        "    graph.append(temp)\n",
        "\n",
        "# Add an edge between vertex v1 and v2 with edge weight e\n",
        "def add_edge(v1, v2, e):\n",
        "    global graph\n",
        "    global vertices_no\n",
        "    global vertices\n",
        "    # Check if vertex v1 is a valid vertex\n",
        "    if v1 not in vertices:\n",
        "        print(\"Vertex \", v1, \" does not exist.\")\n",
        "    # Check if vertex v1 is a valid vertex\n",
        "    elif v2 not in vertices:\n",
        "        print(\"Vertex \", v2, \" does not exist.\")\n",
        "    # Since this code is not restricted to a directed or\n",
        "    # an undirected graph, an edge between v1 v2 does not\n",
        "    # imply that an edge exists between v2 and v1\n",
        "    else:\n",
        "        index1 = vertices.index(v1)\n",
        "        index2 = vertices.index(v2)\n",
        "        graph[index1][index2] = e\n",
        "\n",
        "# Print the graph\n",
        "def print_graph():\n",
        "  global graph\n",
        "  global vertices_no\n",
        "  for i in range(vertices_no):\n",
        "    for j in range(vertices_no):\n",
        "      if graph[i][j] != 0:\n",
        "        print(vertices[i], \" -> \", vertices[j],\n",
        "              \" edge weight: \", graph[i][j])"
      ]
    },
    {
      "cell_type": "code",
      "execution_count": null,
      "metadata": {
        "id": "Z5xW5RbbcqU9"
      },
      "outputs": [],
      "source": [
        "# stores the vertices in the graph\n",
        "vertices = []\n",
        "# stores the number of vertices in the graph\n",
        "vertices_no = 0\n",
        "graph = []"
      ]
    },
    {
      "cell_type": "markdown",
      "metadata": {
        "id": "Le0T2nUQudms"
      },
      "source": [
        "NO.1"
      ]
    },
    {
      "cell_type": "code",
      "source": [
        "add_vertex('E')\n",
        "add_vertex('A')\n",
        "add_vertex('B')\n",
        "add_vertex('D')\n",
        "add_vertex('C')\n",
        "\n",
        "print(\"Vertices:\")\n",
        "for vertex in sorted(vertices):\n",
        "    print(vertex, end=' ')\n",
        "print()\n",
        "\n",
        "edges = [('E','A'), ('A','C'), ('A','D'), ('B','A'), ('C','B'), ('C','D')]\n",
        "\n",
        "print(\"Edges:\")\n",
        "for edge in sorted(edges):\n",
        "    print(edge[0], \"->\", edge[1], end=', ')\n",
        "print()"
      ],
      "metadata": {
        "colab": {
          "base_uri": "https://localhost:8080/"
        },
        "id": "8c9u3ssZg7qJ",
        "outputId": "a9ca3471-f276-4aef-b471-458fbe578fa8"
      },
      "execution_count": 14,
      "outputs": [
        {
          "output_type": "stream",
          "name": "stdout",
          "text": [
            "Vertex  E  already exists\n",
            "Vertex  A  already exists\n",
            "Vertex  B  already exists\n",
            "Vertex  D  already exists\n",
            "Vertex  C  already exists\n",
            "Vertices:\n",
            "A B C D E \n",
            "Edges:\n",
            "A -> C, A -> D, B -> A, C -> B, C -> D, E -> A, \n"
          ]
        }
      ]
    },
    {
      "cell_type": "markdown",
      "metadata": {
        "id": "qS_4NyhOvDgt"
      },
      "source": [
        "NO.2"
      ]
    },
    {
      "cell_type": "code",
      "execution_count": 13,
      "metadata": {
        "colab": {
          "base_uri": "https://localhost:8080/"
        },
        "id": "T_-G3IVQ1jFd",
        "outputId": "b672c2d0-bfca-49b1-a9d1-96ab86a3a5c9"
      },
      "outputs": [
        {
          "output_type": "stream",
          "name": "stdout",
          "text": [
            "E  ->  A  edge weight:  7\n",
            "A  ->  D  edge weight:  60\n",
            "A  ->  C  edge weight:  12\n",
            "B  ->  A  edge weight:  10\n",
            "C  ->  B  edge weight:  20\n",
            "C  ->  D  edge weight:  32\n"
          ]
        }
      ],
      "source": [
        "add_edge('A', 'C', 12)\n",
        "add_edge('A', 'D', 60)\n",
        "add_edge('B', 'A', 10)\n",
        "add_edge('C', 'B', 20)\n",
        "add_edge('C', 'D', 32)\n",
        "add_edge('E', 'A', 7)\n",
        "\n",
        "print_graph()"
      ]
    },
    {
      "cell_type": "markdown",
      "metadata": {
        "id": "PDdRfCd95fER"
      },
      "source": [
        "NO.3"
      ]
    },
    {
      "cell_type": "code",
      "execution_count": null,
      "metadata": {
        "colab": {
          "background_save": true,
          "base_uri": "https://localhost:8080/"
        },
        "id": "NfEK9mpAOJIQ",
        "outputId": "03cddb08-3bf4-4afc-c7de-aa76f00ca636"
      },
      "outputs": [
        {
          "name": "stdout",
          "output_type": "stream",
          "text": [
            "Optimal Route:\n",
            "Manila -> Davao = 5000 \n",
            "Davao -> Puerto Princesa = 4000 \n",
            "Puerto Princesa -> Tacloban = 1500 \n",
            "Tacloban -> Manila = 1000 \n",
            "\n",
            "Total cost: 11500\n"
          ]
        }
      ],
      "source": [
        "places = {\n",
        "    'Manila': [('Puerto Princesa', 8000), ('Davao', 5000), ('Tacloban', 1000)],\n",
        "    'Puerto Princesa': [('Manila', 8000), ('Tacloban', 1500), ('Davao', 4000)],\n",
        "    'Davao': [('Manila', 5000), ('Puerto Princesa', 4000), ('Tacloban', 2000)],\n",
        "    'Tacloban': [('Manila', 1000), ('Puerto Princesa', 1500), ('Davao', 2000)]\n",
        "}\n",
        "\n",
        "def dfs(city, visited, place, cost):\n",
        "    visited.add(city)\n",
        "    place.append(city)\n",
        "\n",
        "    if len(place) == len(places):\n",
        "        cost += next(distance for destination, distance in places[city] if destination == place[0])\n",
        "        global total_cost, optimal_route\n",
        "        if cost < total_cost:\n",
        "            total_cost = cost\n",
        "            optimal_route = place.copy()\n",
        "    else:\n",
        "        for adjacent, distance in places[city]:\n",
        "            if adjacent not in visited:\n",
        "                dfs(adjacent, visited, place, cost + distance)\n",
        "\n",
        "    visited.remove(city)\n",
        "    place.pop()\n",
        "\n",
        "total_cost = float('inf')\n",
        "optimal_route = None\n",
        "\n",
        "for city in places.keys():\n",
        "    dfs(city, set(), [], 0)\n",
        "\n",
        "print(\"Optimal Route:\")\n",
        "for i, city in enumerate(optimal_route):\n",
        "    next_city = optimal_route[(i + 1) % len(optimal_route)]\n",
        "    for destination, distance in places[city]:\n",
        "        if destination == next_city:\n",
        "            print(f\"{city} -> {destination} = {distance} \" + \"\\n\", end=\"\")\n",
        "\n",
        "print(f'\\nTotal cost: {total_cost}')\n"
      ]
    }
  ],
  "metadata": {
    "colab": {
      "provenance": [],
      "authorship_tag": "ABX9TyP2FJvMw0RzmWW4PA5cmFxM",
      "include_colab_link": true
    },
    "kernelspec": {
      "display_name": "Python 3",
      "name": "python3"
    },
    "language_info": {
      "name": "python"
    }
  },
  "nbformat": 4,
  "nbformat_minor": 0
}