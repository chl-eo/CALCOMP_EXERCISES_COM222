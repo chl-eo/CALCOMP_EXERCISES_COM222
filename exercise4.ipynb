{
  "cells": [
    {
      "cell_type": "markdown",
      "metadata": {
        "id": "view-in-github",
        "colab_type": "text"
      },
      "source": [
        "<a href=\"https://colab.research.google.com/github/chl-eo/CCALCOMP_EXERCISES_COM222/blob/main/exercise4.ipynb\" target=\"_parent\"><img src=\"https://colab.research.google.com/assets/colab-badge.svg\" alt=\"Open In Colab\"/></a>"
      ]
    },
    {
      "cell_type": "markdown",
      "metadata": {
        "id": "cPRRjBOhHHMh"
      },
      "source": [
        "# Exercise 4\n",
        "\n",
        "Please follow the instructions in each number."
      ]
    },
    {
      "cell_type": "markdown",
      "metadata": {
        "id": "zvDTNWRFHHMk"
      },
      "source": [
        "### Activity Selection Problem\n",
        "\n",
        "Given a set of activities, along with the starting and finishing time of each activity, find the maximum number of activities performed by a single person assuming that a person can only work on a single activity at a time.\n",
        "\n",
        "For example,\n",
        "\n",
        "Input: Following set of activities (1, 4), (3, 5), (0, 6), (5, 7), (3, 8), (5, 9), (6, 10), (8, 11), (8, 12), (2, 13), (12, 14)  \n",
        "\n",
        "Output: (1, 4), (5, 7), (8, 11), (12, 14)"
      ]
    },
    {
      "cell_type": "markdown",
      "metadata": {
        "id": "ff7w7YLGHHMl"
      },
      "source": [
        "## Tasks"
      ]
    },
    {
      "cell_type": "markdown",
      "metadata": {
        "id": "0QLHdoNSHHMl"
      },
      "source": [
        "1. Write a program using a recursive greedy approach to get the maximum number of activities (`50 points`)"
      ]
    },
    {
      "cell_type": "code",
      "execution_count": null,
      "metadata": {
        "vscode": {
          "languageId": "plaintext"
        },
        "id": "Xe02cHvAHHMl",
        "colab": {
          "base_uri": "https://localhost:8080/"
        },
        "outputId": "99df8169-d01e-441e-92a3-cd1a9f0ac455"
      },
      "outputs": [
        {
          "output_type": "stream",
          "name": "stdout",
          "text": [
            "Maximum number of activities that can be performed: [(1, 4), (5, 7), (8, 11), (12, 14)]\n"
          ]
        }
      ],
      "source": [
        "def recursive_activity_selector(activities, selected_activities, last_finish_time, index):\n",
        "\n",
        "    if index == len(activities):\n",
        "        return selected_activities\n",
        "\n",
        "\n",
        "    if activities[index][0] >= last_finish_time:\n",
        "\n",
        "        selected_activities.append(activities[index])\n",
        "        return recursive_activity_selector(activities, selected_activities, activities[index][1], index + 1)\n",
        "    else:\n",
        "\n",
        "        return recursive_activity_selector(activities, selected_activities, last_finish_time, index + 1)\n",
        "\n",
        "def max_activities(activities):\n",
        "\n",
        "    sorted_activities = sorted(activities, key=lambda x: x[1])\n",
        "    selected_activities = []\n",
        "\n",
        "\n",
        "    return recursive_activity_selector(sorted_activities, selected_activities, 0, 0)\n",
        "\n",
        "# Driver code\n",
        "activities = [(1, 4), (3, 5), (0, 6), (5, 7), (3, 8), (5, 9), (6, 10), (8, 11), (8, 12), (2, 13), (12, 14)]\n",
        "result = max_activities(activities)\n",
        "print(\"Maximum number of activities that can be performed:\", result)\n"
      ]
    },
    {
      "cell_type": "markdown",
      "metadata": {
        "id": "eZe27u4LHHMn"
      },
      "source": [
        "2. Write a program using a iterative greedy approach to get the maximun number of activities (`50 points`)"
      ]
    },
    {
      "cell_type": "code",
      "execution_count": null,
      "metadata": {
        "vscode": {
          "languageId": "plaintext"
        },
        "id": "UrSZyQwEHHMn",
        "colab": {
          "base_uri": "https://localhost:8080/"
        },
        "outputId": "4d3de922-93bc-4d45-d5d6-5b09b6ac2304"
      },
      "outputs": [
        {
          "output_type": "stream",
          "name": "stdout",
          "text": [
            "Maximum number of activities that can be performed: [(1, 4), (5, 7), (8, 11), (12, 14)]\n"
          ]
        }
      ],
      "source": [
        "def max_activities(activities):\n",
        "\n",
        "    sorted_activities = sorted(activities, key=lambda x: x[1])\n",
        "\n",
        "\n",
        "    selected_activities = []\n",
        "\n",
        "\n",
        "    last_finish_time = 0\n",
        "\n",
        "    for activity in sorted_activities:\n",
        "        if activity[0] >= last_finish_time:\n",
        "\n",
        "            selected_activities.append(activity)\n",
        "\n",
        "            last_finish_time = activity[1]\n",
        "\n",
        "    return selected_activities\n",
        "\n",
        "# Driver code\n",
        "activities = [(1, 4), (3, 5), (0, 6), (5, 7), (3, 8), (5, 9), (6, 10), (8, 11), (8, 12), (2, 13), (12, 14)]\n",
        "result = max_activities(activities)\n",
        "print(\"Maximum number of activities that can be performed:\", result)\n"
      ]
    }
  ],
  "metadata": {
    "colab": {
      "provenance": [],
      "include_colab_link": true
    },
    "kernelspec": {
      "display_name": "base",
      "language": "python",
      "name": "python3"
    },
    "language_info": {
      "codemirror_mode": {
        "name": "ipython",
        "version": 3
      },
      "file_extension": ".py",
      "mimetype": "text/x-python",
      "name": "python",
      "nbconvert_exporter": "python",
      "pygments_lexer": "ipython3",
      "version": "3.9.6"
    }
  },
  "nbformat": 4,
  "nbformat_minor": 0
}